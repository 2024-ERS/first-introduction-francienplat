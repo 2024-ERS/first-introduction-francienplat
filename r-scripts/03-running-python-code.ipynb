{
  "cells": [
    {
      "cell_type": "markdown",
      "metadata": {},
      "source": [
        "# Running a python code\n"
      ],
      "id": "f62975a5"
    },
    {
      "cell_type": "code",
      "metadata": {},
      "source": [
        "# Import the matplotlib library\n",
        "import matplotlib.pyplot as plt\n",
        "\n",
        "# Create data\n",
        "x = [1, 2, 3, 4, 5]\n",
        "y = [10, 15, 7, 20, 10]\n",
        "\n",
        "# Create a simple line plot\n",
        "plt.plot(x, y)\n",
        "plt.xlabel('X-axis')\n",
        "plt.ylabel('Y-axis')\n",
        "plt.title('Simple Line Plot')\n",
        "\n",
        "# Display the plot\n",
        "plt.show()"
      ],
      "id": "d2131a55",
      "execution_count": null,
      "outputs": []
    },
    {
      "cell_type": "markdown",
      "metadata": {},
      "source": [
        "Use 'exit' to exit the python console, and return to the R console"
      ],
      "id": "0baac604"
    }
  ],
  "metadata": {
    "kernelspec": {
      "display_name": "Python 3",
      "language": "python",
      "name": "python3"
    }
  },
  "nbformat": 4,
  "nbformat_minor": 5
}